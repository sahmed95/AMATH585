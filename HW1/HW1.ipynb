{
 "cells": [
  {
   "cell_type": "markdown",
   "metadata": {},
   "source": [
    "# HW 1 585 \n",
    "Shabab Ahmed "
   ]
  },
  {
   "cell_type": "markdown",
   "metadata": {},
   "source": [
    "# Problem 1:\n",
    "\n",
    "Vandermonde Matrix:\n",
    "\n",
    "We use the Python equivalent of the MATLAB code in Section 1.5 to compute the Vandermonde coefficients. We will use this code to verify the coefficients computed solves the linear system in Problem(1). "
   ]
  },
  {
   "cell_type": "code",
   "execution_count": 2,
   "metadata": {},
   "outputs": [],
   "source": [
    "%matplotlib inline"
   ]
  },
  {
   "cell_type": "code",
   "execution_count": 3,
   "metadata": {},
   "outputs": [],
   "source": [
    "from pylab import *\n",
    "from scipy.special import factorial"
   ]
  },
  {
   "cell_type": "code",
   "execution_count": 4,
   "metadata": {},
   "outputs": [],
   "source": [
    "def fdcoeffV(k,xbar,x):\n",
    "    x = array(x)  # in case a list or tuple passed in, convert to numpy array\n",
    "    n = len(x)\n",
    "    if k >=n:\n",
    "        raise ValueError('*** len(x) must be larger than k')\n",
    "        \n",
    "    A = ones((n,n))\n",
    "    xrow = x - xbar  # displacement vector\n",
    "    \n",
    "    for i in range(1,n):\n",
    "        A[i,:] = (xrow**i) / factorial(i)\n",
    "      \n",
    "    condA = cond(A)  # condition number\n",
    "    if condA > 1e8:\n",
    "        print(\"Warning: condition number of Vandermonde matrix is approximately %.1e\" % condA)\n",
    "        \n",
    "    b = zeros(x.shape)\n",
    "    b[k] = 1.\n",
    "    \n",
    "    c = solve(A,b)\n",
    "    \n",
    "    return c"
   ]
  },
  {
   "cell_type": "markdown",
   "metadata": {},
   "source": [
    "We will apply the above code to our particular case. We will look at the fourth derivative $u^{(4)}(x_0)$ with a 5-point stencil. We use the interval $[-2,2]$ and let $x_0 = 0$. The fdcoeff function outputs vector $c$ which contains the coefficients of the linear combination. They are of the form $\\frac{k}{h^4}$ where $k$ is weight of each $u(x_j)$. We chose the interval in such a way that $h = 1$ and so we just get the weights. The coefficients in general will have a $h^4$ in the denominator. "
   ]
  },
  {
   "cell_type": "code",
   "execution_count": 5,
   "metadata": {},
   "outputs": [
    {
     "name": "stdout",
     "output_type": "stream",
     "text": [
      "[ 1. -4.  6. -4.  1.]\n"
     ]
    }
   ],
   "source": [
    "k = 4    # fourth derivative \n",
    "xbar = 0 # x_0\n",
    "a = -2 # left hand boundary\n",
    "b = 2 # right hand boundary\n",
    "m = 5 # number of stencil points\n",
    "x = linspace(a,b, m) # creating the stencil\n",
    "h = mean(diff(x)) # calculating h\n",
    "c = fdcoeffV(k, xbar, x)\n",
    "print(c)\n"
   ]
  },
  {
   "cell_type": "markdown",
   "metadata": {},
   "source": [
    "We now test that these coefficients solve our linear system in Problem 1. We first test it for our current value of $h$, but then we use different values of $h$ to ensure that we up getting $f$ after being multiplied by the Vandermonde matrix. "
   ]
  },
  {
   "cell_type": "code",
   "execution_count": 6,
   "metadata": {},
   "outputs": [
    {
     "name": "stdout",
     "output_type": "stream",
     "text": [
      "[0. 0. 0. 0. 1.]\n",
      "[0. 0. 0. 0. 1.]\n",
      "[0. 0. 0. 0. 1.]\n",
      "[0. 0. 0. 0. 1.]\n",
      "[0. 0. 0. 0. 1.]\n"
     ]
    }
   ],
   "source": [
    "A = array([[1.,1.,1.,1.,1.],[-2.,-1.,0.,1.,2.],[2.,0.5,0.,0.5,2.],[(-4/3),(-1/6),0.,(1/6),(4/3)]\\\n",
    "           ,[(h**4)*(2/3.),(h**4)*(1/24.),0.,(h**4)*(1/24),(h**4)*(2/3)]]) # Vandermonde matrix\n",
    "\n",
    "F_1 = A@c\n",
    "print(F_1)\n",
    "\n",
    "h = 0.1 # different h \n",
    "c = array([1., -4., 6., -4., 1.])/(h**4)\n",
    "A = array([[1.,1.,1.,1.,1.],[-2.,-1.,0.,1.,2.],[2.,0.5,0.,0.5,2.],[(-4/3),(-1/6),0.,(1/6),(4/3)]\\\n",
    "           ,[(h**4)*(2/3.),(h**4)*(1/24.),0.,(h**4)*(1/24),(h**4)*(2/3)]]) # Vandermonde matrix\n",
    "F_2 = A@c\n",
    "print(F_2)\n",
    "\n",
    "h = 0.25 # different h\n",
    "c = array([1., -4., 6., -4., 1.])/(h**4)\n",
    "A = array([[1.,1.,1.,1.,1.],[-2.,-1.,0.,1.,2.],[2.,0.5,0.,0.5,2.],[(-4/3),(-1/6),0.,(1/6),(4/3)]\\\n",
    "           ,[(h**4)*(2/3.),(h**4)*(1/24.),0.,(h**4)*(1/24),(h**4)*(2/3)]]) # Vandermonde matrix\n",
    "F_3 = A@c\n",
    "print(F_3)\n",
    "\n",
    "h =0.5 # different h\n",
    "c = array([1., -4., 6., -4., 1.])/(h**4)\n",
    "A = array([[1.,1.,1.,1.,1.],[-2.,-1.,0.,1.,2.],[2.,0.5,0.,0.5,2.],[(-4/3),(-1/6),0.,(1/6),(4/3)]\\\n",
    "           ,[(h**4)*(2/3.),(h**4)*(1/24.),0.,(h**4)*(1/24),(h**4)*(2/3)]]) # Vandermonde matrix\n",
    "F_4 = A@c\n",
    "print(F_4)\n",
    "\n",
    "h=0.75\n",
    "# different h\n",
    "c = array([1., -4., 6., -4., 1.])/(h**4)\n",
    "A = array([[1.,1.,1.,1.,1.],[-2.,-1.,0.,1.,2.],[2.,0.5,0.,0.5,2.],[(-4/3),(-1/6),0.,(1/6),(4/3)]\\\n",
    "           ,[(h**4)*(2/3.),(h**4)*(1/24.),0.,(h**4)*(1/24),(h**4)*(2/3)]]) # Vandermonde matrix\n",
    "F_5 = A@c\n",
    "print(F_5)"
   ]
  },
  {
   "cell_type": "markdown",
   "metadata": {},
   "source": [
    "We can see that we get $f$ back for different values of $h$. So the coefficients provided by the fdcoeffV function satisfies the linear system we had in Problem 1."
   ]
  },
  {
   "cell_type": "markdown",
   "metadata": {},
   "source": [
    "# Problem 2\n",
    "\n",
    "We look at the errors in our approximation from Problem 1. "
   ]
  },
  {
   "cell_type": "code",
   "execution_count": 7,
   "metadata": {},
   "outputs": [],
   "source": [
    "u = lambda x: sin(2*x)\n",
    "u4 = lambda x: 16*sin(2*x)\n",
    "u6 =lambda x: -64*sin(2*x)\n"
   ]
  },
  {
   "cell_type": "code",
   "execution_count": 8,
   "metadata": {},
   "outputs": [
    {
     "name": "stdout",
     "output_type": "stream",
     "text": [
      "\n",
      "    h                 error \n",
      "0.10000000     0.0967012731628500\n",
      "0.05000000     0.0242297537095180\n",
      "0.02500000     0.0060608476143358\n",
      "0.01250000     0.0015154341109707\n",
      "0.00625000     0.0003786976104863\n",
      "0.00312500     0.0001009015487767\n",
      "0.00156250     0.0001591092096902\n",
      "0.00078125     0.0007551556574441\n",
      "0.00039063     0.0004571324335672\n",
      "0.00019531     0.3580850010859091\n"
     ]
    }
   ],
   "source": [
    "x0 = 1.\n",
    "u4_true = u4(x0) #true solution\n",
    "h0 = 0.1\n",
    "stencil_points = array([-2,-1,0,1,2])\n",
    "c = array([1.,-4.,6.,-4.,1.])\n",
    "h_vals = []\n",
    "errors = []\n",
    "print('\\n    h                 error ')\n",
    "for n in range(10):\n",
    "    h = h0 / 2**n\n",
    "    h_vals.append(h)\n",
    "    x = x0 + h*stencil_points\n",
    "    u4_approx = dot(c,u(x)) / h**4\n",
    "    error = abs(u4_approx - u4_true) #observed error\n",
    "    errors.append(error)\n",
    "    print('%10.8f   %20.16f' % (h,error))\n",
    "   "
   ]
  },
  {
   "cell_type": "code",
   "execution_count": 10,
   "metadata": {},
   "outputs": [
    {
     "data": {
      "text/plain": [
       "<matplotlib.legend.Legend at 0x81ec29c10>"
      ]
     },
     "execution_count": 10,
     "metadata": {},
     "output_type": "execute_result"
    },
    {
     "data": {
      "image/png": "[encoded data removed]",
      "text/plain": [
       "<Figure size 432x288 with 1 Axes>"
      ]
     },
     "metadata": {
      "needs_background": "light"
     },
     "output_type": "display_data"
    }
   ],
   "source": [
    "loglog(h_vals, errors, 'bx-', label='Observed errors')\n",
    "xlim(1e-6,1)\n",
    "ylim(1e-6,1)\n",
    "grid(True)\n",
    "xlabel('h = Delta x')\n",
    "ylabel('abs(error)')\n",
    "\n",
    "eref = 1/6. * array(h_vals)**2 * abs(u6(x0)) #expected error\n",
    "loglog(h_vals, eref, 'r-', label='Expected errors')\n",
    "legend(loc='lower right')"
   ]
  },
  {
   "cell_type": "markdown",
   "metadata": {},
   "source": [
    "The expected error follows the observed error closely until $h$ becomes smaller than 0.00312500."
   ]
  }
 ],
 "metadata": {
  "kernelspec": {
   "display_name": "Python 3",
   "language": "python",
   "name": "python3"
  },
  "language_info": {
   "codemirror_mode": {
    "name": "ipython",
    "version": 3
   },
   "file_extension": ".py",
   "mimetype": "text/x-python",
   "name": "python",
   "nbconvert_exporter": "python",
   "pygments_lexer": "ipython3",
   "version": "3.7.4"
  }
 },
 "nbformat": 4,
 "nbformat_minor": 2
}
