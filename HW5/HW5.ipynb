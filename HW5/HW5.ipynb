{
 "cells": [
  {
   "cell_type": "markdown",
   "metadata": {},
   "source": [
    "# Homework 5\n",
    "## AMATH 585\n",
    "### Shabab Ahmed \n",
    "\n",
    "#### Problem 5:"
   ]
  },
  {
   "cell_type": "markdown",
   "metadata": {},
   "source": [
    "Consider the problem\n",
    "$$\n",
    "\\frac{d}{dx}\\left(\\kappa(x) u'(x)\\right) = f(x)\n",
    "$$\n",
    "on $0\\leq x \\leq 1$ with $\\kappa(x) >0$ everywhere. \n",
    "\n",
    "(a) Determine the solution of this problem for the case of $f(x)=0$ and\n",
    "a discontinuous $\\kappa(x)$ given by\n",
    "\n",
    "\n",
    "$$\\kappa(x) =\\Bigg\\{{0.1 \\ \\text{if} \\  x < 0.5, \\ \\ \\\n",
    " 1\\ \\text{if}\\  x > 0.5}.\n",
    "$$\n",
    "\n",
    "\n",
    "with boundary conditions $u(0) = 0$ and $u(1) = 1$. The solution should be\n",
    "continuous and piecewise linear with a discontinuity in slope at $x=0.5$\n",
    "(Note this could model steady steady heat flow through a material that\n",
    "conducts heat better on the right half than on the left.)\n",
    "\n",
    "\n",
    "(b) Now suppose we discretize using the symmetric matrix $A$ of\n",
    "(2.73) in the text.  Choose $m=19$ (odd, so there is a grid point exactly\n",
    "at $x=0.5$, in which case the solution to the discrete system should\n",
    "agree with the exact solution of the differential equation).\n",
    "\n",
    "Write a computer code to solve this system using the SOR method for an\n",
    "arbitrary value of $\\omega$.  Note that setting $\\omega = 1$ should just\n",
    "reduce to the Gauss-Seidel method for comparison.  \n",
    "\n",
    "Test this code and estimate the rate of convergence with $\\omega = 1, \\omega = 1.7$ and\n",
    "with $\\omega = 0.7$, by doing a least squares fit of the convergence\n",
    "history as demonstrated in the notebook $\\texttt{IterativeMethods.ipynb}$."
   ]
  },
  {
   "cell_type": "markdown",
   "metadata": {},
   "source": [
    "We have shown in the homework that the true solution is \n",
    "\n",
    "$$u(x) =\\Bigg\\{{\\frac{10}{5.5}x \\ \\text{if} \\  x < 0.5, \\ \\ \\\n",
    " \\frac{1}{5.5}(x+4.5)\\ \\text{if}\\  x > 0.5}.\n",
    "$$\n",
    "\n",
    "In this step we write a computer code to solve this system using SOR. "
   ]
  },
  {
   "cell_type": "code",
   "execution_count": 1,
   "metadata": {},
   "outputs": [],
   "source": [
    "%matplotlib inline"
   ]
  },
  {
   "cell_type": "code",
   "execution_count": 2,
   "metadata": {},
   "outputs": [],
   "source": [
    "from pylab import *"
   ]
  },
  {
   "cell_type": "code",
   "execution_count": 3,
   "metadata": {},
   "outputs": [],
   "source": [
    "m = 19\n",
    "h=1/m+1\n",
    "f_fcn = lambda x: 0*x\n",
    "utrue_fcn = lambda x: piecewise(x, [x < 0.5, x >= 0.5], [lambda x: (10/5.5)*x, lambda x: (x+4.5)/(5.5)])\n",
    "kappa = lambda x: piecewise(x, [x < 0.5, x >= 0.5], [lambda x: 0*x+0.1, lambda x: 0*x+1])"
   ]
  },
  {
   "cell_type": "markdown",
   "metadata": {},
   "source": [
    "To better illustrate the sequence of approximate solutions obtained as we iterate, we will use a widget to display a sequence of plots in a way that we can easily look through them. \n",
    "\n",
    "The function animate_figs defined below invokes an iteractive widget to loop over a set of matplotlib figures that have been generated in some loop and stored as a list called figs:"
   ]
  },
  {
   "cell_type": "code",
   "execution_count": 4,
   "metadata": {},
   "outputs": [],
   "source": [
    "from ipywidgets import interact\n",
    "import ipywidgets as widgets\n",
    "\n",
    "def animate_figs(figs):\n",
    "    show_frame = lambda frameno: display(figs[frameno])\n",
    "    interact(show_frame, frameno=widgets.IntSlider(min=0,max=len(figs)-1, value=0))"
   ]
  },
  {
   "cell_type": "markdown",
   "metadata": {},
   "source": [
    "Here's the update method for SOR. We can change `omega` to different values to see how this affects convergence.  It should converge as long as $0 < \\omega < 2$ but even small changes in $\\omega$ will give much poorer results than the optimal.  (And recall that $\\omega = 1$ corresponds to Gauss-Seidel, so setting $\\omega < 1$ would be *under-relaxed* and converge even slower than G-S.) This is exactly what we see in our case. We see best convergence with `omega` = 1.7 and worst convergence with `omega` = 0.7. This piece of code is taken from the \\texttt{IterativeMethods} notebook but we have modified to allow for new discretized matrix when we have a variable coefficient problem. The discretization of $\\frac{d}{dx}(\\kappa u(x))$ becomes: \n",
    "\n",
    "$$\n",
    "\\frac{1}{h^2}[\\kappa_{i+\\frac{1}{2}}(U_{i+1}-U_{i}) - \\kappa_{i-\\frac{1}{2}}(U_i-U_{i-1})] -f(x_i)\n",
    "$$\n",
    "\n",
    "Therefore, we get: \n",
    "\n",
    "$$ \n",
    "U_{i} = \\frac{1}{\\kappa_{i+\\frac{1}{2}}+\\kappa_{i-\\frac{1}{2}}}(\\kappa_{i-\\frac{1}{2}}U_{i-1} +\\kappa_{i+\\frac{1}{2}}U_{i+1} - h^2f(x_i))\\times (\\omega+(1-\\omega)U_i)\n",
    "$$\n",
    "\n",
    "at each update. "
   ]
  },
  {
   "cell_type": "code",
   "execution_count": 5,
   "metadata": {},
   "outputs": [],
   "source": [
    "#omega = 0.7\n",
    "#omega = 1\n",
    "omega= 1.7\n",
    "def update_u_SOR(U, F, h, kappa,x):\n",
    "    \"\"\"\n",
    "    Input: Current iterate U^[k-1]\n",
    "    Output: Next iterate U^[k]\n",
    "    \"\"\"\n",
    "\n",
    "    m = len(U) - 2\n",
    "    for i in range(1,m+1):\n",
    "        x_imh_j = x[i] - h/2    #x_{i-1\\2}\n",
    "        kappa_imh_j = kappa(x_imh_j) # kappa_{i-1/2}\n",
    "        x_iph_j = x[i] + h/2.         #x_{1+1/2}\n",
    "        kappa_iph_j = kappa(x_iph_j) # kappa_{i+1/2} \n",
    "        U[i] = (1/(kappa_imh_j+kappa_iph_j))*(kappa_imh_j*U[i-1] + kappa_iph_j*U[i+1] - h**2 * F[i])*omega \\\n",
    "               + (1-omega)*U[i]\n",
    "    return U"
   ]
  },
  {
   "cell_type": "code",
   "execution_count": 6,
   "metadata": {},
   "outputs": [],
   "source": [
    "def solve_bvp(f_fcn, utrue_fcn, kappa, m, update_u, maxiter, kplot):\n",
    "\n",
    "    alpha = utrue_fcn(0)\n",
    "    beta = utrue_fcn(1)\n",
    "\n",
    "    h = 1./(m+1)\n",
    "    x = linspace(0,1,m+2)\n",
    "\n",
    "    utrue = utrue_fcn(x)\n",
    "    F = f_fcn(x)\n",
    "\n",
    "    U0 = linspace(alpha, beta, m+2) # initial guess\n",
    "    U = U0.copy() # current iterate\n",
    "\n",
    "    max_error = abs(U-utrue).max()\n",
    "    errors = [max_error]\n",
    "\n",
    "    figs = []  # for the list of figures we generate\n",
    "    \n",
    "    for k in range(1,maxiter+1):     \n",
    "        U = update_u(U, F, h, kappa,x)  # take one iteration\n",
    "        \n",
    "        max_error = abs(U-utrue).max()\n",
    "        errors.append(max_error)\n",
    "\n",
    "        if mod(k,kplot)==0 or k==maxiter:\n",
    "            # every kplot iterations create a plot:\n",
    "            fig = figure(figsize=(12,5))\n",
    "            plot(x,U0,'r-o', label='initial guess')\n",
    "            plot(x,utrue,'k-o', label='true solution')\n",
    "            plot(x,U,'bo-', label= 'iteration k = %i' % k)\n",
    "            legend()\n",
    "            grid(True)\n",
    "            xlim(0,1)\n",
    "            ylim(0, 3)\n",
    "            title('After %i iterations, max error = %.2e' \\\n",
    "                  % (k, max_error))\n",
    "            figs.append(fig)\n",
    "            close(fig)\n",
    "            \n",
    "    errors = array(errors)  # convert list to numpy array\n",
    "    return errors, figs\n"
   ]
  },
  {
   "cell_type": "code",
   "execution_count": 7,
   "metadata": {},
   "outputs": [
    {
     "data": {
      "application/vnd.jupyter.widget-view+json": {
       "model_id": "b6a89c835e774a1ab2c07ad478409864",
       "version_major": 2,
       "version_minor": 0
      },
      "text/plain": [
       "interactive(children=(IntSlider(value=0, description='frameno', max=19), Output()), _dom_classes=('widget-inte…"
      ]
     },
     "metadata": {},
     "output_type": "display_data"
    }
   ],
   "source": [
    "errors_SOR, figs = solve_bvp(f_fcn, utrue_fcn, kappa, m=m, update_u=update_u_SOR, \n",
    "                             maxiter=100, kplot=5)\n",
    "animate_figs(figs)"
   ]
  },
  {
   "cell_type": "code",
   "execution_count": 8,
   "metadata": {},
   "outputs": [
    {
     "data": {
      "image/png": "[encoded data removed]",
      "text/plain": [
       "<Figure size 432x288 with 1 Axes>"
      ]
     },
     "metadata": {
      "needs_background": "light"
     },
     "output_type": "display_data"
    }
   ],
   "source": [
    "semilogy(errors_SOR, 'g', label='SOR');\n",
    "title('Semilogy plot of errors')\n",
    "grid(True)"
   ]
  },
  {
   "cell_type": "markdown",
   "metadata": {},
   "source": [
    "Since we expect $\\log(E(k)) \\approx \\log(C) + k\\log(\\rho)$ and the convergence looks so linear, we could fit a straight line through a couple points on these plots and easily estimate $\\log(\\rho)$.  \n",
    "\n",
    "A more general approach, if the convergence is a bit ragged, would be to do a least squares fit of a linear function to more points (say $n$) from this convergence plot, setting up a linear system using $\\log(E_i) = c_1 + c_2 k_i$ for $i=1,~2,~\\ldots,~n$,\n",
    "\n",
    "$$\n",
    "\\left[\\begin{array}{cc}\n",
    "1 & k_1\\\\\n",
    "1 & k_2\\\\\n",
    "\\vdots & \\vdots \\\\\n",
    "1 & k_n\n",
    "\\end{array}\\right]\n",
    "\\left[\\begin{array}{c}\n",
    "c_1\\\\\n",
    "c_2\n",
    "\\end{array}\\right]\n",
    "=\n",
    "\\left[\\begin{array}{c}\n",
    "\\log(E_1)\\\\\n",
    "\\log(E_2)\\\\\n",
    "\\vdots\\\\\n",
    "\\log(E_n)\n",
    "\\end{array}\\right]\n",
    "$$\n",
    "\n",
    "and then solving this in the least squares sense for $[c_1,~c_2]$.  Then $\\rho \\approx \\exp(c_2)$.  \n",
    "\n",
    "Here we explicitly set up and solve this least square problem using [numpy.linalg.lstsq]"
   ]
  },
  {
   "cell_type": "code",
   "execution_count": 9,
   "metadata": {},
   "outputs": [],
   "source": [
    "def convergence_rate(k_vals, errors):\n",
    "    n = len(k_vals)\n",
    "    assert len(errors) == n, 'k_vals and errors must have the same length'\n",
    "    print('Estimating rate based on %i values' % n)\n",
    "    B = vstack((ones(n),k_vals)).T\n",
    "    logE = log(errors)\n",
    "    \n",
    "    # solve least square problem:\n",
    "    c, residuals, rank, s = lstsq(B,logE,rcond=None)\n",
    "    \n",
    "    logC = c[0]\n",
    "    logrho = c[1]\n",
    "    C = exp(logC)\n",
    "    rho = exp(logrho)\n",
    "    print('Convergence approximately like  E(k) = %.3f * rho**k   with rho = %.8f' % (C,rho))"
   ]
  },
  {
   "cell_type": "code",
   "execution_count": 10,
   "metadata": {},
   "outputs": [
    {
     "name": "stdout",
     "output_type": "stream",
     "text": [
      "Estimating rate based on 50 values\n",
      "Convergence approximately like  E(k) = 0.622 * rho**k   with rho = 0.82619976\n"
     ]
    }
   ],
   "source": [
    "\n",
    "k_vals = arange(50, 100, dtype=int)\n",
    "rho_SOR = convergence_rate(k_vals, errors_SOR[k_vals])\n",
    "\n"
   ]
  },
  {
   "cell_type": "code",
   "execution_count": null,
   "metadata": {},
   "outputs": [],
   "source": []
  }
 ],
 "metadata": {
  "kernelspec": {
   "display_name": "Python 3",
   "language": "python",
   "name": "python3"
  },
  "language_info": {
   "codemirror_mode": {
    "name": "ipython",
    "version": 3
   },
   "file_extension": ".py",
   "mimetype": "text/x-python",
   "name": "python",
   "nbconvert_exporter": "python",
   "pygments_lexer": "ipython3",
   "version": "3.7.4"
  }
 },
 "nbformat": 4,
 "nbformat_minor": 2
}
