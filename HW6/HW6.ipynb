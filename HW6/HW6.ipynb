{
 "cells": [
  {
   "cell_type": "markdown",
   "metadata": {},
   "source": [
    "# AMATH 585\n",
    "\n",
    "# Homework 6\n",
    "\n",
    "### Shabab Ahmed \n",
    "\n"
   ]
  },
  {
   "cell_type": "code",
   "execution_count": 1,
   "metadata": {},
   "outputs": [],
   "source": [
    "%matplotlib inline"
   ]
  },
  {
   "cell_type": "code",
   "execution_count": 2,
   "metadata": {},
   "outputs": [],
   "source": [
    "from pylab import *"
   ]
  },
  {
   "cell_type": "markdown",
   "metadata": {},
   "source": [
    "We add the following code to suppress warning that might appear. "
   ]
  },
  {
   "cell_type": "code",
   "execution_count": 3,
   "metadata": {},
   "outputs": [],
   "source": [
    "import logging\n",
    "logging.captureWarnings(True)"
   ]
  },
  {
   "cell_type": "markdown",
   "metadata": {},
   "source": [
    "### Animating the iteration\n",
    "\n",
    "The following piece of code animates figures that comes from the iterations to provide a nice visual way of seeing what is happening for different iterations. \n",
    "\n",
    "\n",
    "To use widgets, we set `use_widgets = True`."
   ]
  },
  {
   "cell_type": "code",
   "execution_count": 4,
   "metadata": {},
   "outputs": [],
   "source": [
    "use_widgets = True\n",
    "\n",
    "if use_widgets:\n",
    "    from ipywidgets import interact\n",
    "    import ipywidgets as widgets\n",
    "\n",
    "    def animate_figs(figs):\n",
    "        show_frame = lambda frameno: display(figs[frameno])\n",
    "        interact(show_frame, frameno=widgets.IntSlider(min=0,max=len(figs)-1, value=0))\n",
    "else:\n",
    "    from jsanimate_figs import animate_figs"
   ]
  },
  {
   "cell_type": "markdown",
   "metadata": {},
   "source": [
    "# Problem 3b)\n",
    "\n",
    "Implement the conjugate gradient method for this problem. \n",
    "For the convergence test require  $\\|r^{[k]}\\|_2 < 10^{-14}$.\n",
    "Allow more than $m$ iterations, if necessary.\n",
    "\n",
    "Make semilogy plots of the max-norm\n",
    "of the error and the 2-norm of the residual as a function of iteration $k$\n",
    "for the case $m=19$ with $\\epsilon = 0.1$.  Also try $\\epsilon = 10^{-3}$.\n",
    "You should observe that more than $m$ iterations are required to get good\n",
    "results.  Comment on the behavior of the iterates in each case."
   ]
  },
  {
   "cell_type": "markdown",
   "metadata": {},
   "source": [
    "## Defining kappa, f and the true solution: "
   ]
  },
  {
   "cell_type": "code",
   "execution_count": 5,
   "metadata": {},
   "outputs": [],
   "source": [
    "epsilon = 10**(-3)\n",
    "#epsilon = 0.1\n",
    "m =19\n",
    "x_full = linspace(0,1,m+2)\n",
    "x = x_full[1:m+1] # interior points\n",
    "h=1/(m+1)\n",
    "f_fcn = lambda x: 0*x\n",
    "utrue_fcn = lambda x: piecewise(x, [x < 0.5, x >= 0.5], \\\n",
    "                                [lambda x: (2/(1+epsilon))*x, lambda x: (1/(1+epsilon))*(2*epsilon*x+1-epsilon)])\n",
    "\n",
    "kappa = lambda x: piecewise(x, [x < 0.5, x >= 0.5], [lambda x: 0*x+epsilon, lambda x: 0*x+1])  "
   ]
  },
  {
   "cell_type": "markdown",
   "metadata": {},
   "source": [
    "The discretization of $\\frac{d}{dx}(\\kappa u(x))$ is: \n",
    "\n",
    "$$\n",
    "\\frac{1}{h^2}[\\kappa_{i+\\frac{1}{2}}(U_{i+1}-U_{i}) - \\kappa_{i-\\frac{1}{2}}(U_i-U_{i-1})] -f(x_i)\n",
    "$$"
   ]
  },
  {
   "cell_type": "code",
   "execution_count": 6,
   "metadata": {},
   "outputs": [],
   "source": [
    "x_imh_j = x - h/2.           # x_{i-1\\2}\n",
    "kappa_imh_j = kappa(x_imh_j) # kappa_{i-1/2}\n",
    "\n",
    "x_iph_j = x + h/2.          # x_{i+1\\2}\n",
    "kappa_iph_j = kappa(x_iph_j) # kappa_{i+1/2}\n",
    "\n",
    "\n"
   ]
  },
  {
   "cell_type": "code",
   "execution_count": 7,
   "metadata": {},
   "outputs": [],
   "source": [
    "def matvec(v):\n",
    "    \"\"\"\n",
    "    Given a grid function v on an mx by my grid. \n",
    "    Return b = A*v\n",
    "    \"\"\"\n",
    "   \n",
    "    # pad V with zeros around border, needed for computing centered differences:\n",
    "    v_full = zeros(m+2)\n",
    "    v_full[1:-1] = v\n",
    "    \n",
    "    # set array B of shape (mx,my) at interior points (same shape as V) \n",
    "    # Note that slicing with [1:-1] corresponds to interior points,\n",
    "    # [:-2] correspond to points to the left (or below) and \n",
    "    # [2:] are points to the right (or above)\n",
    "    \n",
    "    B =   (kappa_iph_j*(v_full[2:] - v_full[1:-1]) \\\n",
    "         - kappa_imh_j*(v_full[1:-1] - v_full[:-2])) / h**2 \n",
    "                    \n",
    "    return B"
   ]
  },
  {
   "cell_type": "code",
   "execution_count": 8,
   "metadata": {},
   "outputs": [],
   "source": [
    "def solve_bvp_CG(f_fcn, utrue_fcn, maxiter, kplot, verbose=False):\n",
    "    \n",
    "    h = 1./(m+1)\n",
    "   \n",
    "    \n",
    "\n",
    "    utrue_full = utrue_fcn(x_full)\n",
    "    utrue = utrue_full[1:m+1]  # at interior points\n",
    "    \n",
    "    # Dirichlet boundary values from true solution:\n",
    "    alpha = utrue_fcn(0.)\n",
    "    beta = utrue_fcn(1.)\n",
    "\n",
    "    f_full = f_fcn(x_full)\n",
    "\n",
    "    # right-hand side:\n",
    "    f = f_full[1:m+1]  # at interior points\n",
    "\n",
    "    # adjust for Dirichlet BCs:\n",
    "    f[0] = f[0] - (kappa_imh_j[0]*alpha) / h**2\n",
    "    f[m-1] = f[m-1] - (kappa_iph_j[-1]*beta) / h**2\n",
    "\n",
    "    # initial guess:\n",
    "    U0_full = zeros(m+2)  # linear\n",
    "    U0_full[-1] = 1\n",
    "    U0 = U0_full[1:m+1]  # interior points\n",
    "  \n",
    "\n",
    "\n",
    "    U = U0.copy() # current iterate\n",
    "    r = f - matvec(U)  # initial residual\n",
    "\n",
    "    p = r.copy()  # initial direction\n",
    "\n",
    "    tol = 1e-14  # stop if the residual \n",
    "\n",
    "    enorm = abs(U-utrue).max()\n",
    "    errors = [enorm]\n",
    "    rTr_k = dot(r,r)\n",
    "    rnorm = sqrt(rTr_k)\n",
    "    r2 = [rnorm]\n",
    "    figs = []  # for the list of figures we generate\n",
    "\n",
    "    rTr_km = dot(r,r)  # r^T * r at iteration k-1\n",
    "\n",
    "    for k in range(1,maxiter+1):\n",
    "        w = matvec(p)   # the only matrix-vector multiply\n",
    "        a = rTr_km / dot(p,w) # alpha_{k-1} in CG algorithm\n",
    "        U = U + a*p\n",
    "        r = r - a*w\n",
    "    \n",
    "        \n",
    "        enorm = abs(U-utrue).max()\n",
    "        errors.append(enorm)\n",
    "        \n",
    "\n",
    "        if mod(k,kplot)==0 or k==maxiter:\n",
    "            # every kplot iterations create a plot:\n",
    "            fig = figure(figsize=(12,5))\n",
    "            plot(x_full,U0_full,'r-o', label='initial guess')\n",
    "            plot(x_full,utrue_full,'k-o', label='true solution')\n",
    "            U_full = hstack([alpha,U,beta])\n",
    "            plot(x_full,U_full,'bo-', label= 'iteration k = %i' % k)\n",
    "            legend()\n",
    "            grid(True)\n",
    "            title('After %i iterations, norm(error) = %.2e' \\\n",
    "                  % (k, enorm))\n",
    "            figs.append(fig)\n",
    "            close(fig)\n",
    "\n",
    "        rTr_k = dot(r,r)\n",
    "        rnorm = sqrt(rTr_k)\n",
    "        r2.append(rnorm)\n",
    "        \n",
    "        if verbose:\n",
    "            print('iteration %3i:   2-norm(r) = %.2e,   max-norm(E) = %.2e' \\\n",
    "                  % (k,rnorm,enorm))\n",
    "        \n",
    "        if rnorm < tol:\n",
    "            if verbose: print('Stopping after %i iterations' % k)\n",
    "            break\n",
    "\n",
    "        # determine next search direction:\n",
    "        b = rTr_k / rTr_km   # beta_{k-1} in CG algorithm\n",
    "        rTr_km = rTr_k       # for next iteration\n",
    "        p = r + b*p           # next search direction\n",
    "    return errors, figs, r2"
   ]
  },
  {
   "cell_type": "code",
   "execution_count": 9,
   "metadata": {},
   "outputs": [
    {
     "name": "stdout",
     "output_type": "stream",
     "text": [
      "iteration   1:   2-norm(r) = 2.00e+02,   max-norm(E) = 1.00e+00\n",
      "iteration   2:   2-norm(r) = 1.33e+02,   max-norm(E) = 1.00e+00\n",
      "iteration   3:   2-norm(r) = 1.00e+02,   max-norm(E) = 1.00e+00\n",
      "iteration   4:   2-norm(r) = 8.00e+01,   max-norm(E) = 1.00e+00\n",
      "iteration   5:   2-norm(r) = 6.67e+01,   max-norm(E) = 9.99e-01\n",
      "iteration   6:   2-norm(r) = 5.71e+01,   max-norm(E) = 9.99e-01\n",
      "iteration   7:   2-norm(r) = 5.00e+01,   max-norm(E) = 9.99e-01\n",
      "iteration   8:   2-norm(r) = 4.44e+01,   max-norm(E) = 9.99e-01\n",
      "iteration   9:   2-norm(r) = 4.00e+01,   max-norm(E) = 9.99e-01\n",
      "iteration  10:   2-norm(r) = 3.96e-01,   max-norm(E) = 8.99e-01\n",
      "iteration  11:   2-norm(r) = 1.99e-01,   max-norm(E) = 7.99e-01\n",
      "iteration  12:   2-norm(r) = 1.33e-01,   max-norm(E) = 6.99e-01\n",
      "iteration  13:   2-norm(r) = 1.00e-01,   max-norm(E) = 5.99e-01\n",
      "iteration  14:   2-norm(r) = 9.14e-01,   max-norm(E) = 5.94e-01\n",
      "iteration  15:   2-norm(r) = 2.50e-01,   max-norm(E) = 4.99e-01\n",
      "iteration  16:   2-norm(r) = 9.49e-02,   max-norm(E) = 4.99e-01\n",
      "iteration  17:   2-norm(r) = 1.89e-01,   max-norm(E) = 4.99e-01\n",
      "iteration  18:   2-norm(r) = 6.54e-01,   max-norm(E) = 4.93e-01\n",
      "iteration  19:   2-norm(r) = 1.71e+00,   max-norm(E) = 4.02e-01\n",
      "iteration  20:   2-norm(r) = 6.96e-01,   max-norm(E) = 3.99e-01\n",
      "iteration  21:   2-norm(r) = 3.07e-01,   max-norm(E) = 3.99e-01\n",
      "iteration  22:   2-norm(r) = 6.95e-02,   max-norm(E) = 3.99e-01\n",
      "iteration  23:   2-norm(r) = 3.52e-01,   max-norm(E) = 3.90e-01\n",
      "iteration  24:   2-norm(r) = 9.20e-02,   max-norm(E) = 2.99e-01\n",
      "iteration  25:   2-norm(r) = 7.19e-02,   max-norm(E) = 2.98e-01\n",
      "iteration  26:   2-norm(r) = 4.98e-02,   max-norm(E) = 1.99e-01\n",
      "iteration  27:   2-norm(r) = 1.26e+00,   max-norm(E) = 1.72e-01\n",
      "iteration  28:   2-norm(r) = 4.43e-02,   max-norm(E) = 9.87e-02\n",
      "iteration  29:   2-norm(r) = 8.60e-01,   max-norm(E) = 8.54e-02\n",
      "iteration  30:   2-norm(r) = 2.00e-02,   max-norm(E) = 2.63e-05\n",
      "iteration  31:   2-norm(r) = 2.06e-03,   max-norm(E) = 2.48e-05\n",
      "iteration  32:   2-norm(r) = 7.06e-04,   max-norm(E) = 2.46e-05\n",
      "iteration  33:   2-norm(r) = 7.63e-04,   max-norm(E) = 2.34e-05\n",
      "iteration  34:   2-norm(r) = 2.30e-03,   max-norm(E) = 1.42e-05\n",
      "iteration  35:   2-norm(r) = 4.60e-05,   max-norm(E) = 4.93e-08\n",
      "iteration  36:   2-norm(r) = 3.97e-07,   max-norm(E) = 8.17e-10\n",
      "iteration  37:   2-norm(r) = 2.00e-10,   max-norm(E) = 8.12e-13\n",
      "iteration  38:   2-norm(r) = 1.92e-10,   max-norm(E) = 7.38e-13\n",
      "iteration  39:   2-norm(r) = 1.11e-13,   max-norm(E) = 4.44e-16\n",
      "iteration  40:   2-norm(r) = 1.12e-16,   max-norm(E) = 4.44e-16\n",
      "Stopping after 40 iterations\n"
     ]
    }
   ],
   "source": [
    "errors,figs, r2 = solve_bvp_CG(f_fcn, utrue_fcn, maxiter=50, kplot=1, verbose=True)"
   ]
  },
  {
   "cell_type": "code",
   "execution_count": 10,
   "metadata": {},
   "outputs": [
    {
     "data": {
      "text/plain": [
       "Text(0.5, 1.0, 'Semilogy plot of max error')"
      ]
     },
     "execution_count": 10,
     "metadata": {},
     "output_type": "execute_result"
    },
    {
     "data": {
      "image/png": "[encoded data removed]",
      "text/plain": [
       "<Figure size 432x288 with 1 Axes>"
      ]
     },
     "metadata": {
      "needs_background": "light"
     },
     "output_type": "display_data"
    }
   ],
   "source": [
    "semilogy(range(1,len(errors)+1), errors, 'b-x')\n",
    "grid(True)\n",
    "xlabel('Number of iterations')\n",
    "title('Semilogy plot of max error')\n",
    "\n"
   ]
  },
  {
   "cell_type": "code",
   "execution_count": 11,
   "metadata": {},
   "outputs": [
    {
     "data": {
      "text/plain": [
       "Text(0.5, 0, 'Number of iterations')"
      ]
     },
     "execution_count": 11,
     "metadata": {},
     "output_type": "execute_result"
    },
    {
     "data": {
      "image/png": "[encoded data removed]",
      "text/plain": [
       "<Figure size 432x288 with 1 Axes>"
      ]
     },
     "metadata": {
      "needs_background": "light"
     },
     "output_type": "display_data"
    }
   ],
   "source": [
    "semilogy(range(1,len(r2)+1),r2, 'b-x')\n",
    "grid(True)\n",
    "title('Semilogy plot of 2-norm of residual vector')\n",
    "xlabel('Number of iterations')"
   ]
  },
  {
   "cell_type": "code",
   "execution_count": 12,
   "metadata": {},
   "outputs": [
    {
     "data": {
      "application/vnd.jupyter.widget-view+json": {
       "model_id": "e8ce9a9c124e4913a846cdb6f60a549e",
       "version_major": 2,
       "version_minor": 0
      },
      "text/plain": [
       "interactive(children=(IntSlider(value=0, description='frameno', max=39), Output()), _dom_classes=('widget-inte…"
      ]
     },
     "metadata": {},
     "output_type": "display_data"
    }
   ],
   "source": [
    "animate_figs(figs)"
   ]
  },
  {
   "cell_type": "markdown",
   "metadata": {},
   "source": [
    "# Problem 3c)"
   ]
  },
  {
   "cell_type": "markdown",
   "metadata": {},
   "source": [
    "Implement the preconditioned C-G algorithm (PCG) using the \n",
    "diagonal preconditioner and observe that this greatly \n",
    "improves the convergence behavior."
   ]
  },
  {
   "cell_type": "markdown",
   "metadata": {},
   "source": [
    "----\n",
    "Here we only consider the simplest (but often effective) preconditioner in which $M$ is the diagonal part of $A$.For the variable coefficient problem this can help a lot, particularly if the values of $\\kappa$ vary greatly.\n",
    "\n",
    "For this problem, where  $A$ that is symmetric *negative* definite, we want to define $M$ based on the absolute values of the diagonal elements.\n",
    "\n",
    "For this problem the diagonal element of $A$ corresponding to the central coefficient of the 5-point stencil at each grid point , with absolute value is given by\n",
    "\n",
    "$$\n",
    "\\frac{(\\kappa_{i-1/2} + \\kappa_{i+1/2})}{h^2}\n",
    "$$\n",
    "\n"
   ]
  },
  {
   "cell_type": "code",
   "execution_count": 13,
   "metadata": {},
   "outputs": [],
   "source": [
    "Mdiag = (kappa_imh_j +kappa_iph_j)/h**2"
   ]
  },
  {
   "cell_type": "code",
   "execution_count": 14,
   "metadata": {},
   "outputs": [
    {
     "name": "stdout",
     "output_type": "stream",
     "text": [
      "using tol = 1.00e-14 with maxiter = 1000\n",
      "Satisfied rnorm < tol after 20 iterations\n",
      "Stopped after 20 iterations with 2-norm(r) = 8.58e-15\n"
     ]
    }
   ],
   "source": [
    "maxiter = 1000\n",
    "kplot = 1\n",
    "verbose = False\n",
    "tol = 1e-14  # stop if the residual falls below tol\n",
    "\n",
    "\n",
    "print('using tol = %.2e with maxiter = %i' % (tol,maxiter))\n",
    "\n",
    "h = 1./(m+1)\n",
    "x_full = linspace(0,1,m+2)\n",
    "x = x_full[1:m+1] # interior points\n",
    "   \n",
    "    \n",
    "\n",
    "utrue_full = utrue_fcn(x_full)\n",
    "utrue = utrue_full[1:m+1]  # at interior points\n",
    "\n",
    "# Dirichlet boundary values from true solution:\n",
    "alpha = utrue_fcn(0.)\n",
    "beta = utrue_fcn(1.)\n",
    "\n",
    "f_full = f_fcn(x_full)\n",
    "\n",
    "# right-hand side:\n",
    "f = f_full[1:m+1]  # at interior points\n",
    "\n",
    "# adjust for Dirichlet BCs:\n",
    "f[0] = f[0] - (kappa_imh_j[0]*alpha) / h**2\n",
    "f[m-1] = f[m-1] - (kappa_iph_j[-1]*beta) / h**2\n",
    "\n",
    "# initial guess:\n",
    "U0_full = zeros(m+2)  # linear\n",
    "U0_full[-1] = 1\n",
    "U0 = U0_full[1:m+1]  # interior points\n",
    "\n",
    "U = U0.copy() # current iterate\n",
    "r = f - matvec(U)  # initial residual\n",
    "  \n",
    "z = r / Mdiag  # apply preconditioner\n",
    "\n",
    "k = 0\n",
    "zTr_k = dot(z,r)  # modified for PCG\n",
    "p = z.copy()\n",
    "\n",
    "enorm = abs(U-utrue).max()\n",
    "errors = [enorm]\n",
    "rTr_k = dot(r,r)  # for checking convergence\n",
    "rnorm = sqrt(rTr_k)\n",
    "rnorms = [rnorm]  # build up list of residuals\n",
    "\n",
    "if verbose:\n",
    "    print('iteration %3i:   2-norm(r) = %.2e,   max-norm(E) = %.2e' \\\n",
    "          % (k,rnorm))\n",
    "    \n",
    "figs = []  # for the list of figures we generate\n",
    "\n",
    "\n",
    "zTr_km = zTr_k  # in general will hold z^T * r at iteration k-1\n",
    "\n",
    "for k in range(1,maxiter+1):\n",
    "    w = matvec(p)   # the only matrix-vector multiply\n",
    "    a = zTr_km / dot(p,w)  # alpha_{k-1} in PCG algorithm\n",
    "    U = U + a*p\n",
    "    r = r - a*w\n",
    "    z = r / Mdiag  # apply preconditioner\n",
    "\n",
    "    zTr_k = dot(z,r)  # modified for PCG\n",
    "    \n",
    "    rTr_k = dot(r,r)  # for checking convergence\n",
    "    rnorm = sqrt(rTr_k)\n",
    "    rnorms.append(rnorm)\n",
    "    enorm = abs(U-utrue).max()\n",
    "    errors.append(enorm)\n",
    "    if mod(k,kplot)==0 or k==maxiter:\n",
    "        # every kplot iterations create a plot:\n",
    "        fig = figure(figsize=(12,5))\n",
    "        plot(x_full,U0_full,'r-o', label='initial guess')\n",
    "        plot(x_full,utrue_full,'k-o', label='true solution')\n",
    "        U_full = hstack([alpha,U,beta])\n",
    "        plot(x_full,U_full,'bo-', label= 'iteration k = %i' % k)\n",
    "        legend()\n",
    "        grid(True)\n",
    "        title('After %i iterations, norm(error) = %.2e' \\\n",
    "              % (k, enorm))\n",
    "        figs.append(fig)\n",
    "        close(fig)\n",
    "\n",
    "        \n",
    "    if verbose:\n",
    "        print('iteration %3i:   2-norm(r) = %.2e' \\\n",
    "              % (k,rnorm))\n",
    "    \n",
    "    # check for convergence:\n",
    "    if rnorm < tol:\n",
    "        print('Satisfied rnorm < tol after %i iterations' % k)\n",
    "        break\n",
    "        \n",
    "    # determine next search direction:\n",
    "    b = zTr_k / zTr_km   # beta_{k-1} in PCG algorithm\n",
    "    zTr_km = zTr_k       # for next iteration\n",
    "    p = z + b*p           # next search direction\n",
    "\n",
    "print('Stopped after %i iterations with 2-norm(r) = %.2e' \\\n",
    "   % (k,rnorm))\n"
   ]
  },
  {
   "cell_type": "code",
   "execution_count": 15,
   "metadata": {},
   "outputs": [
    {
     "data": {
      "text/plain": [
       "Text(0.5, 1.0, 'Semilogy plot of max error')"
      ]
     },
     "execution_count": 15,
     "metadata": {},
     "output_type": "execute_result"
    },
    {
     "data": {
      "image/png": "[encoded data removed]",
      "text/plain": [
       "<Figure size 432x288 with 1 Axes>"
      ]
     },
     "metadata": {
      "needs_background": "light"
     },
     "output_type": "display_data"
    }
   ],
   "source": [
    "semilogy(range(1,len(errors)+1), errors, 'b-x')\n",
    "grid(True)\n",
    "xlabel('Number of iterations')\n",
    "title('Semilogy plot of max error')\n"
   ]
  },
  {
   "cell_type": "code",
   "execution_count": 16,
   "metadata": {},
   "outputs": [
    {
     "data": {
      "text/plain": [
       "Text(0.5, 0, 'Number of iterations')"
      ]
     },
     "execution_count": 16,
     "metadata": {},
     "output_type": "execute_result"
    },
    {
     "data": {
      "image/png": "[encoded data removed]",
      "text/plain": [
       "<Figure size 432x288 with 1 Axes>"
      ]
     },
     "metadata": {
      "needs_background": "light"
     },
     "output_type": "display_data"
    }
   ],
   "source": [
    "semilogy(range(1,len(rnorms)+1),rnorms, 'b-x')\n",
    "grid(True)\n",
    "title('Semilogy plot of 2-norm of residual vector')\n",
    "xlabel('Number of iterations')"
   ]
  },
  {
   "cell_type": "code",
   "execution_count": 17,
   "metadata": {},
   "outputs": [
    {
     "data": {
      "application/vnd.jupyter.widget-view+json": {
       "model_id": "9100486b773c48e993286ac614775d0a",
       "version_major": 2,
       "version_minor": 0
      },
      "text/plain": [
       "interactive(children=(IntSlider(value=0, description='frameno', max=19), Output()), _dom_classes=('widget-inte…"
      ]
     },
     "metadata": {},
     "output_type": "display_data"
    }
   ],
   "source": [
    "animate_figs(figs)"
   ]
  }
 ],
 "metadata": {
  "kernelspec": {
   "display_name": "Python 3",
   "language": "python",
   "name": "python3"
  },
  "language_info": {
   "codemirror_mode": {
    "name": "ipython",
    "version": 3
   },
   "file_extension": ".py",
   "mimetype": "text/x-python",
   "name": "python",
   "nbconvert_exporter": "python",
   "pygments_lexer": "ipython3",
   "version": "3.7.4"
  }
 },
 "nbformat": 4,
 "nbformat_minor": 2
}
